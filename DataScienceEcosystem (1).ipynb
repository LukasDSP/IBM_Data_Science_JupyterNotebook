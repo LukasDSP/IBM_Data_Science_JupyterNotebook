{
 "cells": [
  {
   "cell_type": "markdown",
   "id": "8b92e363-a629-4072-ba45-20e4119e6da8",
   "metadata": {},
   "source": [
    "# Data Science Tools and Ecosystems"
   ]
  },
  {
   "cell_type": "markdown",
   "id": "a1f57a3b-3795-46e0-a458-98d66b0acf52",
   "metadata": {},
   "source": [
    "## This notebook summarizes Data Science tools and its Ecosystem."
   ]
  },
  {
   "cell_type": "markdown",
   "id": "aa6b37b6-78ce-468a-baf7-fbead7857c50",
   "metadata": {},
   "source": [
    "**Objectives**\n",
    "* Most Common Data Science Languages\n",
    "* Popular Data Science Libraries\n",
    "* Open source tools used in data science\n",
    "* Python arithmetic expressions using Jupyter Notebook\n"
   ]
  },
  {
   "cell_type": "markdown",
   "id": "f2a16381-e461-4038-8245-43a5e60cb289",
   "metadata": {},
   "source": [
    "### The most Used Programming Languages for Data Science are:\n",
    "1. Python\n",
    "2. R\n",
    "3. Julia\n",
    "4. C++\n"
   ]
  },
  {
   "cell_type": "markdown",
   "id": "4ba66dd7-4195-40a7-9723-5e5e54193424",
   "metadata": {},
   "source": [
    "### Some of the commonly used libraries used by Data Scientists include:\n",
    "\n",
    "1. Dplyr\n",
    "2. Pandas\n",
    "3. ggplot2\n",
    "4. Matplotlib\n",
    "5. NumPy"
   ]
  },
  {
   "cell_type": "markdown",
   "id": "4dcbec28-dc60-4635-a57c-96bd150c5b0c",
   "metadata": {},
   "source": [
    "| Data Science Tools |\n",
    "| ------ |\n",
    "| Python |\n",
    "| Rstudio |\n",
    "| Tensor Flow |\n",
    "| Apache Spark |"
   ]
  },
  {
   "cell_type": "markdown",
   "id": "18409828-15e7-40d3-929b-98600bc03be4",
   "metadata": {},
   "source": [
    "### Below are a few examples of evaluating arithmetic expressions in Python"
   ]
  },
  {
   "cell_type": "code",
   "execution_count": 1,
   "id": "b5450172-4184-4157-9739-7a485b81ddf6",
   "metadata": {
    "tags": []
   },
   "outputs": [
    {
     "data": {
      "text/plain": [
       "17"
      ]
     },
     "execution_count": 1,
     "metadata": {},
     "output_type": "execute_result"
    }
   ],
   "source": [
    "(3*4)+5\n"
   ]
  },
  {
   "cell_type": "code",
   "execution_count": 3,
   "id": "c2efc594-9783-4e0d-9c4e-ab273b3024b4",
   "metadata": {
    "tags": []
   },
   "outputs": [
    {
     "name": "stdout",
     "output_type": "stream",
     "text": [
      "200 minutes =  3.3333333333333335 hours\n"
     ]
    }
   ],
   "source": [
    "# this code will convert 200 minutes to hours.\n",
    "minute = 200\n",
    "hour = minute/60\n",
    "print(\"200 minutes = \", hour, \"hours\")"
   ]
  },
  {
   "cell_type": "markdown",
   "id": "a78330ea-aea0-40f7-a2c7-f42e857c0146",
   "metadata": {},
   "source": [
    "## Author\n",
    "Lucas Dos Santos Paixao"
   ]
  }
 ],
 "metadata": {
  "kernelspec": {
   "display_name": "Python",
   "language": "python",
   "name": "conda-env-python-py"
  },
  "language_info": {
   "codemirror_mode": {
    "name": "ipython",
    "version": 3
   },
   "file_extension": ".py",
   "mimetype": "text/x-python",
   "name": "python",
   "nbconvert_exporter": "python",
   "pygments_lexer": "ipython3",
   "version": "3.7.12"
  }
 },
 "nbformat": 4,
 "nbformat_minor": 5
}
